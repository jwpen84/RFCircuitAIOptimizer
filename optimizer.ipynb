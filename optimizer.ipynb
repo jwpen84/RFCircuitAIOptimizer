{
 "cells": [
  {
   "cell_type": "code",
   "execution_count": 1,
   "id": "63565b2a",
   "metadata": {},
   "outputs": [],
   "source": [
    "import torch\n",
    "import numpy as np\n",
    "import torch.nn as nn\n",
    "import torch.optim as optim"
   ]
  },
  {
   "cell_type": "code",
   "execution_count": 2,
   "id": "98a7b313",
   "metadata": {},
   "outputs": [],
   "source": [
    "slope = torch.tensor ([0.2], requires_grad=True)\n",
    "xcoords = torch.tensor(np.linspace(-5, 5, 101))\n",
    "ycoords = slope * xcoords"
   ]
  },
  {
   "cell_type": "code",
   "execution_count": 3,
   "id": "6b71a492",
   "metadata": {},
   "outputs": [
    {
     "data": {
      "text/plain": [
       "tensor([-1.0000, -0.9800, -0.9600, -0.9400, -0.9200, -0.9000, -0.8800, -0.8600,\n",
       "        -0.8400, -0.8200, -0.8000, -0.7800, -0.7600, -0.7400, -0.7200, -0.7000,\n",
       "        -0.6800, -0.6600, -0.6400, -0.6200, -0.6000, -0.5800, -0.5600, -0.5400,\n",
       "        -0.5200, -0.5000, -0.4800, -0.4600, -0.4400, -0.4200, -0.4000, -0.3800,\n",
       "        -0.3600, -0.3400, -0.3200, -0.3000, -0.2800, -0.2600, -0.2400, -0.2200,\n",
       "        -0.2000, -0.1800, -0.1600, -0.1400, -0.1200, -0.1000, -0.0800, -0.0600,\n",
       "        -0.0400, -0.0200,  0.0000,  0.0200,  0.0400,  0.0600,  0.0800,  0.1000,\n",
       "         0.1200,  0.1400,  0.1600,  0.1800,  0.2000,  0.2200,  0.2400,  0.2600,\n",
       "         0.2800,  0.3000,  0.3200,  0.3400,  0.3600,  0.3800,  0.4000,  0.4200,\n",
       "         0.4400,  0.4600,  0.4800,  0.5000,  0.5200,  0.5400,  0.5600,  0.5800,\n",
       "         0.6000,  0.6200,  0.6400,  0.6600,  0.6800,  0.7000,  0.7200,  0.7400,\n",
       "         0.7600,  0.7800,  0.8000,  0.8200,  0.8400,  0.8600,  0.8800,  0.9000,\n",
       "         0.9200,  0.9400,  0.9600,  0.9800,  1.0000], dtype=torch.float64,\n",
       "       grad_fn=<MulBackward0>)"
      ]
     },
     "execution_count": 3,
     "metadata": {},
     "output_type": "execute_result"
    }
   ],
   "source": [
    "ycoords"
   ]
  },
  {
   "cell_type": "code",
   "execution_count": 4,
   "id": "bfc3af68",
   "metadata": {},
   "outputs": [
    {
     "data": {
      "text/plain": [
       "tensor([-5.0000, -4.9000, -4.8000, -4.7000, -4.6000, -4.5000, -4.4000, -4.3000,\n",
       "        -4.2000, -4.1000, -4.0000, -3.9000, -3.8000, -3.7000, -3.6000, -3.5000,\n",
       "        -3.4000, -3.3000, -3.2000, -3.1000, -3.0000, -2.9000, -2.8000, -2.7000,\n",
       "        -2.6000, -2.5000, -2.4000, -2.3000, -2.2000, -2.1000, -2.0000, -1.9000,\n",
       "        -1.8000, -1.7000, -1.6000, -1.5000, -1.4000, -1.3000, -1.2000, -1.1000,\n",
       "        -1.0000, -0.9000, -0.8000, -0.7000, -0.6000, -0.5000, -0.4000, -0.3000,\n",
       "        -0.2000, -0.1000,  0.0000,  0.1000,  0.2000,  0.3000,  0.4000,  0.5000,\n",
       "         0.6000,  0.7000,  0.8000,  0.9000,  1.0000,  1.1000,  1.2000,  1.3000,\n",
       "         1.4000,  1.5000,  1.6000,  1.7000,  1.8000,  1.9000,  2.0000,  2.1000,\n",
       "         2.2000,  2.3000,  2.4000,  2.5000,  2.6000,  2.7000,  2.8000,  2.9000,\n",
       "         3.0000,  3.1000,  3.2000,  3.3000,  3.4000,  3.5000,  3.6000,  3.7000,\n",
       "         3.8000,  3.9000,  4.0000,  4.1000,  4.2000,  4.3000,  4.4000,  4.5000,\n",
       "         4.6000,  4.7000,  4.8000,  4.9000,  5.0000], dtype=torch.float64)"
      ]
     },
     "execution_count": 4,
     "metadata": {},
     "output_type": "execute_result"
    }
   ],
   "source": [
    "target_ycoords = xcoords *1.0\n",
    "target_ycoords"
   ]
  },
  {
   "cell_type": "code",
   "execution_count": 5,
   "id": "142009b4",
   "metadata": {},
   "outputs": [
    {
     "name": "stdout",
     "output_type": "stream",
     "text": [
      "Iteration 100: Loss: 1.0559961793887851e-05, Slope: 1.001914143562317\n",
      "Iteration 200: Loss: 2.7178259642823832e-11, Slope: 0.9999953508377075\n",
      "Iteration 300: Loss: 0.0, Slope: 1.0\n",
      "Iteration 400: Loss: 0.0, Slope: 1.0\n",
      "Iteration 500: Loss: 0.0, Slope: 1.0\n",
      "Iteration 600: Loss: 0.0, Slope: 1.0\n",
      "Iteration 700: Loss: 0.0, Slope: 1.0\n",
      "Iteration 800: Loss: 0.0, Slope: 1.0\n",
      "Iteration 900: Loss: 0.0, Slope: 1.0\n",
      "Iteration 1000: Loss: 0.0, Slope: 1.0\n"
     ]
    }
   ],
   "source": [
    "optimizer = optim.Adam([slope], lr=0.1)\n",
    "loss_fn = nn.MSELoss()\n",
    "\n",
    "for i in range(1000):\n",
    "    optimizer.zero_grad()\n",
    "    ycoords = slope * xcoords\n",
    "    loss = loss_fn(ycoords, target_ycoords)\n",
    "    loss.backward()\n",
    "    optimizer.step()\n",
    "    if((i+1)%100 == 0):\n",
    "        # Print the loss and slope every 100 iterations\n",
    "        print(f\"Iteration {i+1}: Loss: {loss.item()}, Slope: {slope.item()}\")\n",
    "    "
   ]
  }
 ],
 "metadata": {
  "kernelspec": {
   "display_name": "venv",
   "language": "python",
   "name": "python3"
  },
  "language_info": {
   "codemirror_mode": {
    "name": "ipython",
    "version": 3
   },
   "file_extension": ".py",
   "mimetype": "text/x-python",
   "name": "python",
   "nbconvert_exporter": "python",
   "pygments_lexer": "ipython3",
   "version": "3.9.13"
  }
 },
 "nbformat": 4,
 "nbformat_minor": 5
}
