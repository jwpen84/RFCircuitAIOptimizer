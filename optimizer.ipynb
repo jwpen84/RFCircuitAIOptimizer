{
 "cells": [
  {
   "cell_type": "code",
   "execution_count": 1,
   "id": "63565b2a",
   "metadata": {},
   "outputs": [],
   "source": [
    "import torch\n",
    "import numpy as np\n",
    "import torch.nn as nn\n",
    "import torch.optim as optim"
   ]
  },
  {
   "cell_type": "code",
   "execution_count": 2,
   "id": "98a7b313",
   "metadata": {},
   "outputs": [],
   "source": [
    "slope = torch.tensor ([0.2], requires_grad=True)\n",
    "xcoords = torch.tensor(np.linspace(-5, 5, 100))"
   ]
  },
  {
   "cell_type": "code",
   "execution_count": 3,
   "id": "bfc3af68",
   "metadata": {},
   "outputs": [
    {
     "data": {
      "text/plain": [
       "tensor([-500.0000, -489.8990, -479.7980, -469.6970, -459.5960, -449.4949,\n",
       "        -439.3939, -429.2929, -419.1919, -409.0909, -398.9899, -388.8889,\n",
       "        -378.7879, -368.6869, -358.5859, -348.4848, -338.3838, -328.2828,\n",
       "        -318.1818, -308.0808, -297.9798, -287.8788, -277.7778, -267.6768,\n",
       "        -257.5758, -247.4747, -237.3737, -227.2727, -217.1717, -207.0707,\n",
       "        -196.9697, -186.8687, -176.7677, -166.6667, -156.5657, -146.4646,\n",
       "        -136.3636, -126.2626, -116.1616, -106.0606,  -95.9596,  -85.8586,\n",
       "         -75.7576,  -65.6566,  -55.5556,  -45.4545,  -35.3535,  -25.2525,\n",
       "         -15.1515,   -5.0505,    5.0505,   15.1515,   25.2525,   35.3535,\n",
       "          45.4545,   55.5556,   65.6566,   75.7576,   85.8586,   95.9596,\n",
       "         106.0606,  116.1616,  126.2626,  136.3636,  146.4646,  156.5657,\n",
       "         166.6667,  176.7677,  186.8687,  196.9697,  207.0707,  217.1717,\n",
       "         227.2727,  237.3737,  247.4747,  257.5758,  267.6768,  277.7778,\n",
       "         287.8788,  297.9798,  308.0808,  318.1818,  328.2828,  338.3838,\n",
       "         348.4848,  358.5859,  368.6869,  378.7879,  388.8889,  398.9899,\n",
       "         409.0909,  419.1919,  429.2929,  439.3939,  449.4949,  459.5960,\n",
       "         469.6970,  479.7980,  489.8990,  500.0000], dtype=torch.float64)"
      ]
     },
     "execution_count": 3,
     "metadata": {},
     "output_type": "execute_result"
    }
   ],
   "source": [
    "target_ycoords = xcoords *100.0\n",
    "target_ycoords"
   ]
  },
  {
   "cell_type": "code",
   "execution_count": 4,
   "id": "142009b4",
   "metadata": {},
   "outputs": [
    {
     "name": "stdout",
     "output_type": "stream",
     "text": [
      "Iteration 100: Loss: 68971.6984657719, Slope: 10.025278091430664\n",
      "Iteration 200: Loss: 55422.84592226287, Slope: 19.35007095336914\n",
      "Iteration 300: Loss: 43993.744358130396, Slope: 28.149911880493164\n",
      "Iteration 400: Loss: 34459.26136150719, Slope: 36.41500473022461\n",
      "Iteration 500: Loss: 26602.744241690467, Slope: 44.1359977722168\n",
      "Iteration 600: Loss: 20216.594203892586, Slope: 51.304683685302734\n",
      "Iteration 700: Loss: 15103.255338031156, Slope: 57.91475296020508\n",
      "Iteration 800: Loss: 11076.448269755114, Slope: 63.96263122558594\n",
      "Iteration 900: Loss: 7962.604611521644, Slope: 69.44830322265625\n",
      "Iteration 1000: Loss: 5602.270764255565, Slope: 74.37632751464844\n"
     ]
    }
   ],
   "source": [
    "optimizer = optim.Adam([slope], lr=0.1)\n",
    "loss_fn = nn.MSELoss()\n",
    "\n",
    "for i in range(1000):\n",
    "    optimizer.zero_grad()\n",
    "    ycoords = slope * xcoords\n",
    "    loss = loss_fn(ycoords, target_ycoords)\n",
    "    loss.backward()\n",
    "    optimizer.step()\n",
    "    if((i+1)%100 == 0):\n",
    "        # Print the loss and slope every 100 iterations\n",
    "        print(f\"Iteration {i+1}: Loss: {loss.item()}, Slope: {slope.item()}\")\n",
    "    "
   ]
  }
 ],
 "metadata": {
  "kernelspec": {
   "display_name": "venv",
   "language": "python",
   "name": "python3"
  },
  "language_info": {
   "codemirror_mode": {
    "name": "ipython",
    "version": 3
   },
   "file_extension": ".py",
   "mimetype": "text/x-python",
   "name": "python",
   "nbconvert_exporter": "python",
   "pygments_lexer": "ipython3",
   "version": "3.9.13"
  }
 },
 "nbformat": 4,
 "nbformat_minor": 5
}
